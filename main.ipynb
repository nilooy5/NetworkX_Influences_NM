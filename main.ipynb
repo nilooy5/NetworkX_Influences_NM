{
 "cells": [
  {
   "cell_type": "code",
   "execution_count": 1,
   "metadata": {
    "collapsed": true
   },
   "outputs": [
    {
     "name": "stdout",
     "output_type": "stream",
     "text": [
      "target:\n",
      "   id       facebook_id                                     page_name  \\\n",
      "0   0   145647315578475                      The Voice of China 中国好声音   \n",
      "1   1      191483281412                 U.S. Consulate General Mumbai   \n",
      "2   2   144761358898518                                          ESET   \n",
      "3   3   568700043198473  Consulate General of Switzerland in Montreal   \n",
      "4   4  1408935539376139             Mark Bailey MP - Labor for Miller   \n",
      "\n",
      "    page_type  \n",
      "0      tvshow  \n",
      "1  government  \n",
      "2     company  \n",
      "3  government  \n",
      "4  politician  \n",
      "edges:\n",
      "   id_1   id_2\n",
      "0     0  18427\n",
      "1     1  21708\n",
      "2     1  22208\n",
      "3     1  22171\n",
      "4     1   6829\n",
      "features:\n",
      "                                               554    \\\n",
      "0  [2835, 4518, 2198, 2014, 3818, 3045, 4570, 458...   \n",
      "\n",
      "                           10772                                6350   \\\n",
      "0  [3293, 2534, 979, 2014, 2317]  [4477, 2895, 4039, 3282, 765, 2669]   \n",
      "\n",
      "                                               9218   \\\n",
      "0  [3133, 2052, 979, 3355, 107, 1878, 1105, 4571,...   \n",
      "\n",
      "                                               7787   \\\n",
      "0  [1151, 631, 2613, 2791, 648, 1684, 3818, 107, ...   \n",
      "\n",
      "                                               756    \\\n",
      "0  [3232, 4193, 296, 1337, 2832, 1437, 4572, 4587...   \n",
      "\n",
      "                                            21527  \\\n",
      "0  [3383, 3832, 4328, 3939, 2332, 2566, 3244, 66]   \n",
      "\n",
      "                                               4506   \\\n",
      "0  [2835, 2320, 3643, 2926, 3320, 1792, 3056, 457...   \n",
      "\n",
      "                                               18282  \\\n",
      "0  [1080, 1326, 2158, 2868, 4173, 2118, 4479, 448...   \n",
      "\n",
      "                                            20267  ...  \\\n",
      "0  [3251, 2620, 693, 216, 1444, 1602, 1871, 1910]  ...   \n",
      "\n",
      "                                               8169   \\\n",
      "0  [3251, 3832, 21, 2056, 2162, 2325, 1216, 2657,...   \n",
      "\n",
      "                                               4381   \\\n",
      "0  [3251, 2052, 1440, 803, 4014, 4576, 4585, 4591...   \n",
      "\n",
      "                                               21270  \\\n",
      "0  [2835, 716, 3601, 1005, 2520, 2118, 2487, 3670...   \n",
      "\n",
      "                                  17349  \\\n",
      "0  [3383, 1410, 2032, 2817, 2945, 3428]   \n",
      "\n",
      "                                       12011  \\\n",
      "0  [1938, 4193, 3314, 1602, 524, 1590, 3001]   \n",
      "\n",
      "                                21828                                   1421   \\\n",
      "0  [1748, 723, 3492, 2032, 3110, 107]  [806, 3832, 4328, 3129, 16, 1053, 809]   \n",
      "\n",
      "                                      19147  \\\n",
      "0  [3383, 4391, 3381, 2726, 2535, 823, 113]   \n",
      "\n",
      "                                             13411  \\\n",
      "0  [3133, 1865, 1684, 3110, 3818, 107, 1878, 3045]   \n",
      "\n",
      "                                               2750   \n",
      "0  [3399, 2854, 3601, 633, 3110, 107, 3045, 4570,...  \n",
      "\n",
      "[1 rows x 22470 columns]\n"
     ]
    }
   ],
   "source": [
    "# using musae_facebook_target.csv as the target file\n",
    "# using musae_facebook_edges.csv as the edge file\n",
    "# using musae_facebook_features.json as the feature file\n",
    "\n",
    "import pandas as pd\n",
    "import networkx as nx\n",
    "import matplotlib.pyplot as plt\n",
    "import scipy as sp\n",
    "\n",
    "\n",
    "# using networkx determine the most influential node\n",
    "def most_influential_node(G):\n",
    "    # calculate the degree of each node\n",
    "    degree = nx.degree_centrality(G)\n",
    "    # sort the degree of each node\n",
    "    degree = sorted(degree.items(), key=lambda x: x[1], reverse=True)\n",
    "    # return the most influential node\n",
    "    return degree[0][0]\n",
    "\n",
    "\n",
    "# read musae_facebook_target.csv in facebook_large folder\n",
    "target = pd.read_csv('facebook_large/musae_facebook_target.csv')\n",
    "# read musae_facebook_edges.csv\n",
    "edges = pd.read_csv('facebook_large/musae_facebook_edges.csv')\n",
    "# read musae_facebook_features.json\n",
    "features = pd.read_json('facebook_large/musae_facebook_features.json', lines=True)\n",
    "print(\"target:\")\n",
    "print(target.head())\n",
    "print(\"edges:\")\n",
    "print(edges.head())\n",
    "print(\"features:\")\n",
    "print(features.head())\n",
    "\n",
    "# create a networkx graph\n",
    "G = nx.Graph()\n",
    "# add nodes to the graph\n",
    "G.add_nodes_from(target['id'])\n",
    "# add edges to the graph\n",
    "G.add_edges_from(edges.values)"
   ]
  },
  {
   "cell_type": "code",
   "execution_count": 2,
   "outputs": [
    {
     "name": "stderr",
     "output_type": "stream",
     "text": [
      "\n",
      "KeyboardInterrupt\n",
      "\n"
     ]
    },
    {
     "data": {
      "text/plain": "<Figure size 640x480 with 1 Axes>",
      "image/png": "[encoded data removed]"
     },
     "metadata": {},
     "output_type": "display_data"
    }
   ],
   "source": [
    "nx.draw(G, with_labels=True)"
   ],
   "metadata": {
    "collapsed": false
   }
  },
  {
   "cell_type": "code",
   "execution_count": null,
   "outputs": [],
   "source": [
    "# get the most influential node\n",
    "most_influential = most_influential_node(G)\n",
    "# get the most influential node's feature\n",
    "most_influential_feature = features[features['id'] == most_influential].values[0][1:]\n",
    "# get the most influential node's label\n",
    "most_influential_label = target[target['id'] == most_influential].values[0][1]\n",
    "\n",
    "# print the most influential node's feature\n",
    "print(most_influential_feature)\n",
    "# print the most influential node's label\n",
    "print(most_influential_label)\n",
    "\n",
    "# output\n"
   ],
   "metadata": {
    "collapsed": false
   }
  }
 ],
 "metadata": {
  "kernelspec": {
   "display_name": "Python 3",
   "language": "python",
   "name": "python3"
  },
  "language_info": {
   "codemirror_mode": {
    "name": "ipython",
    "version": 2
   },
   "file_extension": ".py",
   "mimetype": "text/x-python",
   "name": "python",
   "nbconvert_exporter": "python",
   "pygments_lexer": "ipython2",
   "version": "2.7.6"
  }
 },
 "nbformat": 4,
 "nbformat_minor": 0
}
